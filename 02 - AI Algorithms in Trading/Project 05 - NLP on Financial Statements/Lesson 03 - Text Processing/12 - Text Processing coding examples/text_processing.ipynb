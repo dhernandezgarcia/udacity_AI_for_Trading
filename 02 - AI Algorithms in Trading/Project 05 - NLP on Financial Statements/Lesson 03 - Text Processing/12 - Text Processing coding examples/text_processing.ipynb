{
 "cells": [
  {
   "cell_type": "markdown",
   "metadata": {},
   "source": [
    "# Text Processing\n",
    "\n",
    "## Capturing Text Data\n",
    "\n",
    "### Plain Text"
   ]
  },
  {
   "cell_type": "code",
   "execution_count": 1,
   "metadata": {},
   "outputs": [
    {
     "name": "stdout",
     "output_type": "stream",
     "text": [
      "Hieroglyphic writing dates from c. 3000 BC, and is composed of hundreds of symbols. A hieroglyph can represent a word, a sound, or a silent determinative; and the same symbol can serve different purposes in different contexts. Hieroglyphs were a formal script, used on stone monuments and in tombs, that could be as detailed as individual works of art.\n",
      "\n"
     ]
    }
   ],
   "source": [
    "import os\n",
    "\n",
    "# Read in a plain text file\n",
    "with open(os.path.join(\"data\", \"hieroglyph.txt\"), \"r\") as f:\n",
    "    text = f.read()\n",
    "    print(text)"
   ]
  },
  {
   "cell_type": "markdown",
   "metadata": {},
   "source": [
    "### Tabular Data"
   ]
  },
  {
   "cell_type": "code",
   "execution_count": 2,
   "metadata": {
    "scrolled": true
   },
   "outputs": [
    {
     "data": {
      "text/html": [
       "<div>\n",
       "<style scoped>\n",
       "    .dataframe tbody tr th:only-of-type {\n",
       "        vertical-align: middle;\n",
       "    }\n",
       "\n",
       "    .dataframe tbody tr th {\n",
       "        vertical-align: top;\n",
       "    }\n",
       "\n",
       "    .dataframe thead th {\n",
       "        text-align: right;\n",
       "    }\n",
       "</style>\n",
       "<table border=\"1\" class=\"dataframe\">\n",
       "  <thead>\n",
       "    <tr style=\"text-align: right;\">\n",
       "      <th></th>\n",
       "      <th>publisher</th>\n",
       "      <th>title</th>\n",
       "    </tr>\n",
       "  </thead>\n",
       "  <tbody>\n",
       "    <tr>\n",
       "      <th>0</th>\n",
       "      <td>Livemint</td>\n",
       "      <td>fed's charles plosser sees high bar for change...</td>\n",
       "    </tr>\n",
       "    <tr>\n",
       "      <th>1</th>\n",
       "      <td>IFA Magazine</td>\n",
       "      <td>us open: stocks fall after fed official hints ...</td>\n",
       "    </tr>\n",
       "    <tr>\n",
       "      <th>2</th>\n",
       "      <td>IFA Magazine</td>\n",
       "      <td>fed risks falling 'behind the curve', charles ...</td>\n",
       "    </tr>\n",
       "    <tr>\n",
       "      <th>3</th>\n",
       "      <td>Moneynews</td>\n",
       "      <td>fed's plosser: nasty weather has curbed job gr...</td>\n",
       "    </tr>\n",
       "    <tr>\n",
       "      <th>4</th>\n",
       "      <td>NASDAQ</td>\n",
       "      <td>plosser: fed may have to accelerate tapering pace</td>\n",
       "    </tr>\n",
       "  </tbody>\n",
       "</table>\n",
       "</div>"
      ],
      "text/plain": [
       "      publisher                                              title\n",
       "0      Livemint  fed's charles plosser sees high bar for change...\n",
       "1  IFA Magazine  us open: stocks fall after fed official hints ...\n",
       "2  IFA Magazine  fed risks falling 'behind the curve', charles ...\n",
       "3     Moneynews  fed's plosser: nasty weather has curbed job gr...\n",
       "4        NASDAQ  plosser: fed may have to accelerate tapering pace"
      ]
     },
     "execution_count": 2,
     "metadata": {},
     "output_type": "execute_result"
    }
   ],
   "source": [
    "import pandas as pd\n",
    "\n",
    "# Extract text column from a dataframe\n",
    "df = pd.read_csv(os.path.join(\"data\", \"news.csv\"))\n",
    "df.head()[['publisher', 'title']]\n",
    "\n",
    "# Convert text column to lowercase\n",
    "df['title'] = df['title'].str.lower()\n",
    "df.head()[['publisher', 'title']]"
   ]
  },
  {
   "cell_type": "markdown",
   "metadata": {},
   "source": [
    "### Online Resource"
   ]
  },
  {
   "cell_type": "code",
   "execution_count": 3,
   "metadata": {
    "scrolled": true
   },
   "outputs": [
    {
     "name": "stdout",
     "output_type": "stream",
     "text": [
      "{\n",
      "    \"success\": {\n",
      "        \"total\": 1\n",
      "    },\n",
      "    \"contents\": {\n",
      "        \"quotes\": [\n",
      "            {\n",
      "                \"quote\": \"Where there is ruin, there is hope for a treasure.\",\n",
      "                \"length\": \"50\",\n",
      "                \"author\": \"Rumi\",\n",
      "                \"tags\": [\n",
      "                    \"failure\",\n",
      "                    \"inspire\",\n",
      "                    \"learning-from-failure\"\n",
      "                ],\n",
      "                \"category\": \"inspire\",\n",
      "                \"language\": \"en\",\n",
      "                \"date\": \"2020-06-22\",\n",
      "                \"permalink\": \"https://theysaidso.com/quote/rumi-where-there-is-ruin-there-is-hope-for-a-treasure\",\n",
      "                \"id\": \"dPKsui4sQnQqgMnXHLKtfweF\",\n",
      "                \"background\": \"https://theysaidso.com/img/qod/qod-inspire.jpg\",\n",
      "                \"title\": \"Inspiring Quote of the day\"\n",
      "            }\n",
      "        ]\n",
      "    },\n",
      "    \"baseurl\": \"https://theysaidso.com\",\n",
      "    \"copyright\": {\n",
      "        \"year\": 2022,\n",
      "        \"url\": \"https://theysaidso.com\"\n",
      "    }\n",
      "}\n",
      "Where there is ruin, there is hope for a treasure. \n",
      "-- Rumi\n"
     ]
    }
   ],
   "source": [
    "import requests\n",
    "import json\n",
    "\n",
    "# Fetch data from a REST API\n",
    "r = requests.get(\n",
    "    \"https://quotes.rest/qod.json\")\n",
    "res = r.json()\n",
    "print(json.dumps(res, indent=4))\n",
    "\n",
    "# Extract relevant object and field\n",
    "q = res[\"contents\"][\"quotes\"][0]\n",
    "print(q[\"quote\"], \"\\n--\", q[\"author\"])"
   ]
  },
  {
   "cell_type": "markdown",
   "metadata": {},
   "source": [
    "## Cleaning"
   ]
  },
  {
   "cell_type": "code",
   "execution_count": 4,
   "metadata": {
    "scrolled": true
   },
   "outputs": [
    {
     "name": "stdout",
     "output_type": "stream",
     "text": [
      "<html lang=\"en\" op=\"news\"><head><meta name=\"referrer\" content=\"origin\"><meta name=\"viewport\" content=\"width=device-width, initial-scale=1.0\"><link rel=\"stylesheet\" type=\"text/css\" href=\"news.css?NM9XW8W8GKw1aLb7haw2\">\n",
      "        <link rel=\"shortcut icon\" href=\"favicon.ico\">\n",
      "          <link rel=\"alternate\" type=\"application/rss+xml\" title=\"RSS\" href=\"rss\">\n",
      "        <title>Hacker News</title></head><body><center><table id=\"hnmain\" border=\"0\" cellpadding=\"0\" cellspacing=\"0\" width=\"85%\" bgcolor=\"#f6f6ef\">\n",
      "        <tr><td bgcolor=\"#ff6600\"><table border=\"0\" cellpadding=\"0\" cellspacing=\"0\" width=\"100%\" style=\"padding:2px\"><tr><td style=\"width:18px;padding-right:4px\"><a href=\"https://news.ycombinator.com\"><img src=\"y18.gif\" width=\"18\" height=\"18\" style=\"border:1px white solid;\"></a></td>\n",
      "                  <td style=\"line-height:12pt; height:10px;\"><span class=\"pagetop\"><b class=\"hnname\"><a href=\"news\">Hacker News</a></b>\n",
      "              <a href=\"newest\">new</a> | <a href=\"front\">past</a> | <a href=\"newcomments\">comments</a> | <a href=\"ask\">ask</a> | <a href=\"show\">show</a> | <a href=\"jobs\">jobs</a> | <a href=\"submit\">submit</a>            </span></td><td style=\"text-align:right;padding-right:4px;\"><span class=\"pagetop\">\n",
      "                              <a href=\"login?goto=news\">login</a>\n",
      "                          </span></td>\n",
      "              </tr></table></td></tr>\n",
      "<tr id=\"pagespace\" title=\"\" style=\"height:10px\"></tr><tr><td><table border=\"0\" cellpadding=\"0\" cellspacing=\"0\" class=\"itemlist\">\n",
      "              <tr class='athing' id='23597403'>\n",
      "      <td align=\"right\" valign=\"top\" class=\"title\"><span class=\"rank\">1.</span></td>      <td valign=\"top\" class=\"votelinks\"><center><a id='up_23597403' href='vote?id=23597403&amp;how=up&amp;goto=news'><div class='votearrow' title='upvote'></div></a></center></td><td class=\"title\"><a href=\"https://mondaynote.com/arm-mac-impact-on-intel-9641a8e73dca\" class=\"storylink\">ARM Mac Impact on Intel</a><span class=\"sitebit comhead\"> (<a href=\"from?site=mondaynote.com\"><span class=\"sitestr\">mondaynote.com</span></a>)</span></td></tr><tr><td colspan=\"2\"></td><td class=\"subtext\">\n",
      "        <span class=\"score\" id=\"score_23597403\">112 points</span> by <a href=\"user?id=robin_reala\" class=\"hnuser\">robin_reala</a> <span class=\"age\"><a href=\"item?id=23597403\">5 hours ago</a></span> <span id=\"unv_23597403\"></span> | <a href=\"hide?id=23597403&amp;goto=news\">hide</a> | <a href=\"item?id=23597403\">213&nbsp;comments</a>              </td></tr>\n",
      "      <tr class=\"spacer\" style=\"height:5px\"></tr>\n",
      "                <tr class='athing' id='23597294'>\n",
      "      <td align=\"right\" valign=\"top\" class=\"title\"><span class=\"rank\">2.</span></td>      <td valign=\"top\" class=\"votelinks\"><center><a id='up_23597294' href='vote?id=23597294&amp;how=up&amp;goto=news'><div class='votearrow' title='upvote'></div></a></center></td><td class=\"title\"><a href=\"https://github.com/schenkd/nginx-ui\" class=\"storylink\">Nginx UI – Access and modify the Nginx configurations files without CLI</a><span class=\"sitebit comhead\"> (<a href=\"from?site=github.com\"><span class=\"sitestr\">github.com</span></a>)</span></td></tr><tr><td colspan=\"2\"></td><td class=\"subtext\">\n",
      "        <span class=\"score\" id=\"score_23597294\">133 points</span> by <a href=\"user?id=gilad\" class=\"hnuser\">gilad</a> <span class=\"age\"><a href=\"item?id=23597294\">6 hours ago</a></span> <span id=\"unv_23597294\"></span> | <a href=\"hide?id=23597294&amp;goto=news\">hide</a> | <a href=\"item?id=23597294\">31&nbsp;comments</a>              </td></tr>\n",
      "      <tr class=\"spacer\" style=\"height:5px\"></tr>\n",
      "                <tr class='athing' id='23598391'>\n",
      "      <td align=\"right\" valign=\"top\" class=\"title\"><span class=\"rank\">3.</span></td>      <td valign=\"top\" class=\"votelinks\"><center><a id='up_23598391' href='vote?id=23598391&amp;how=up&amp;goto=news'><div class='votearrow' title='upvote'></div></a></center></td><td class=\"title\"><a href=\"https://www.freethink.com/articles/lsd-trip\" class=\"storylink\">An LSD Trip “Off-Switch” May Be Coming Soon</a><span class=\"sitebit comhead\"> (<a href=\"from?site=freethink.com\"><span class=\"sitestr\">freethink.com</span></a>)</span></td></tr><tr><td colspan=\"2\"></td><td class=\"subtext\">\n",
      "        <span class=\"score\" id=\"score_23598391\">24 points</span> by <a href=\"user?id=jaoo\" class=\"hnuser\">jaoo</a> <span class=\"age\"><a href=\"item?id=23598391\">1 hour ago</a></span> <span id=\"unv_23598391\"></span> | <a href=\"hide?id=23598391&amp;goto=news\">hide</a> | <a href=\"item?id=23598391\">16&nbsp;comments</a>              </td></tr>\n",
      "      <tr class=\"spacer\" style=\"height:5px\"></tr>\n",
      "                <tr class='athing' id='23598277'>\n",
      "      <td align=\"right\" valign=\"top\" class=\"title\"><span class=\"rank\">4.</span></td>      <td valign=\"top\" class=\"votelinks\"><center><a id='up_23598277' href='vote?id=23598277&amp;how=up&amp;goto=news'><div class='votearrow' title='upvote'></div></a></center></td><td class=\"title\"><a href=\"https://www.maptiler.com/news/2020/06/vector-tiles-in-qgis-3-14/\" class=\"storylink\">New QGIS 3.14 π got support for vector tiles</a><span class=\"sitebit comhead\"> (<a href=\"from?site=maptiler.com\"><span class=\"sitestr\">maptiler.com</span></a>)</span></td></tr><tr><td colspan=\"2\"></td><td class=\"subtext\">\n",
      "        <span class=\"score\" id=\"score_23598277\">31 points</span> by <a href=\"user?id=vami\" class=\"hnuser\">vami</a> <span class=\"age\"><a href=\"item?id=23598277\">1 hour ago</a></span> <span id=\"unv_23598277\"></span> | <a href=\"hide?id=23598277&amp;goto=news\">hide</a> | <a href=\"item?id=23598277\">3&nbsp;comments</a>              </td></tr>\n",
      "      <tr class=\"spacer\" style=\"height:5px\"></tr>\n",
      "                <tr class='athing' id='23595956'>\n",
      "      <td align=\"right\" valign=\"top\" class=\"title\"><span class=\"rank\">5.</span></td>      <td valign=\"top\" class=\"votelinks\"><center><a id='up_23595956' href='vote?id=23595956&amp;how=up&amp;goto=news'><div class='votearrow' title='upvote'></div></a></center></td><td class=\"title\"><a href=\"https://hot3eed.github.io/2020/06/22/snap_p2_deobfuscation.html\" class=\"storylink\">Reverse Engineering Snapchat (Part II): Debofuscating the Undeobfuscatable</a><span class=\"sitebit comhead\"> (<a href=\"from?site=hot3eed.github.io\"><span class=\"sitestr\">hot3eed.github.io</span></a>)</span></td></tr><tr><td colspan=\"2\"></td><td class=\"subtext\">\n",
      "        <span class=\"score\" id=\"score_23595956\">208 points</span> by <a href=\"user?id=3eed\" class=\"hnuser\">3eed</a> <span class=\"age\"><a href=\"item?id=23595956\">11 hours ago</a></span> <span id=\"unv_23595956\"></span> | <a href=\"hide?id=23595956&amp;goto=news\">hide</a> | <a href=\"item?id=23595956\">41&nbsp;comments</a>              </td></tr>\n",
      "      <tr class=\"spacer\" style=\"height:5px\"></tr>\n",
      "                <tr class='athing' id='23597573'>\n",
      "      <td align=\"right\" valign=\"top\" class=\"title\"><span class=\"rank\">6.</span></td>      <td valign=\"top\" class=\"votelinks\"><center><a id='up_23597573' href='vote?id=23597573&amp;how=up&amp;goto=news'><div class='votearrow' title='upvote'></div></a></center></td><td class=\"title\"><a href=\"https://yurichev.com/news/20200621_regex_SAT/\" class=\"storylink\">Sat solver on top of regex matcher</a><span class=\"sitebit comhead\"> (<a href=\"from?site=yurichev.com\"><span class=\"sitestr\">yurichev.com</span></a>)</span></td></tr><tr><td colspan=\"2\"></td><td class=\"subtext\">\n",
      "        <span class=\"score\" id=\"score_23597573\">38 points</span> by <a href=\"user?id=justinucd\" class=\"hnuser\">justinucd</a> <span class=\"age\"><a href=\"item?id=23597573\">4 hours ago</a></span> <span id=\"unv_23597573\"></span> | <a href=\"hide?id=23597573&amp;goto=news\">hide</a> | <a href=\"item?id=23597573\">12&nbsp;comments</a>              </td></tr>\n",
      "      <tr class=\"spacer\" style=\"height:5px\"></tr>\n",
      "                <tr class='athing' id='23597199'>\n",
      "      <td align=\"right\" valign=\"top\" class=\"title\"><span class=\"rank\">7.</span></td>      <td valign=\"top\" class=\"votelinks\"><center><a id='up_23597199' href='vote?id=23597199&amp;how=up&amp;goto=news'><div class='votearrow' title='upvote'></div></a></center></td><td class=\"title\"><a href=\"https://www.outsideonline.com/2414888/john-ackerman-caves-minnesota\" class=\"storylink\">The largest cave owner in the U.S.</a><span class=\"sitebit comhead\"> (<a href=\"from?site=outsideonline.com\"><span class=\"sitestr\">outsideonline.com</span></a>)</span></td></tr><tr><td colspan=\"2\"></td><td class=\"subtext\">\n",
      "        <span class=\"score\" id=\"score_23597199\">70 points</span> by <a href=\"user?id=aaron695\" class=\"hnuser\">aaron695</a> <span class=\"age\"><a href=\"item?id=23597199\">6 hours ago</a></span> <span id=\"unv_23597199\"></span> | <a href=\"hide?id=23597199&amp;goto=news\">hide</a> | <a href=\"item?id=23597199\">17&nbsp;comments</a>              </td></tr>\n",
      "      <tr class=\"spacer\" style=\"height:5px\"></tr>\n",
      "                <tr class='athing' id='23597231'>\n",
      "      <td align=\"right\" valign=\"top\" class=\"title\"><span class=\"rank\">8.</span></td>      <td valign=\"top\" class=\"votelinks\"><center><a id='up_23597231' href='vote?id=23597231&amp;how=up&amp;goto=news'><div class='votearrow' title='upvote'></div></a></center></td><td class=\"title\"><a href=\"https://macwright.org/2020/06/21/ethics-in-geo.html\" class=\"storylink\">Ethics in Geo</a><span class=\"sitebit comhead\"> (<a href=\"from?site=macwright.org\"><span class=\"sitestr\">macwright.org</span></a>)</span></td></tr><tr><td colspan=\"2\"></td><td class=\"subtext\">\n",
      "        <span class=\"score\" id=\"score_23597231\">81 points</span> by <a href=\"user?id=chmaynard\" class=\"hnuser\">chmaynard</a> <span class=\"age\"><a href=\"item?id=23597231\">6 hours ago</a></span> <span id=\"unv_23597231\"></span> | <a href=\"hide?id=23597231&amp;goto=news\">hide</a> | <a href=\"item?id=23597231\">20&nbsp;comments</a>              </td></tr>\n",
      "      <tr class=\"spacer\" style=\"height:5px\"></tr>\n",
      "                <tr class='athing' id='23596603'>\n",
      "      <td align=\"right\" valign=\"top\" class=\"title\"><span class=\"rank\">9.</span></td>      <td valign=\"top\" class=\"votelinks\"><center><a id='up_23596603' href='vote?id=23596603&amp;how=up&amp;goto=news'><div class='votearrow' title='upvote'></div></a></center></td><td class=\"title\"><a href=\"https://www.nationalgeographic.com/science/2020/06/father-launched-quest-find-alien-intelligence-changed-astronomy/\" class=\"storylink\">My dad launched the quest to find alien intelligence</a><span class=\"sitebit comhead\"> (<a href=\"from?site=nationalgeographic.com\"><span class=\"sitestr\">nationalgeographic.com</span></a>)</span></td></tr><tr><td colspan=\"2\"></td><td class=\"subtext\">\n",
      "        <span class=\"score\" id=\"score_23596603\">80 points</span> by <a href=\"user?id=8bitsrule\" class=\"hnuser\">8bitsrule</a> <span class=\"age\"><a href=\"item?id=23596603\">9 hours ago</a></span> <span id=\"unv_23596603\"></span> | <a href=\"hide?id=23596603&amp;goto=news\">hide</a> | <a href=\"item?id=23596603\">116&nbsp;comments</a>              </td></tr>\n",
      "      <tr class=\"spacer\" style=\"height:5px\"></tr>\n",
      "                <tr class='athing' id='23597142'>\n",
      "      <td align=\"right\" valign=\"top\" class=\"title\"><span class=\"rank\">10.</span></td>      <td valign=\"top\" class=\"votelinks\"><center><a id='up_23597142' href='vote?id=23597142&amp;how=up&amp;goto=news'><div class='votearrow' title='upvote'></div></a></center></td><td class=\"title\"><a href=\"https://waypointnda.com/\" class=\"storylink\">The Waypoint NDA</a><span class=\"sitebit comhead\"> (<a href=\"from?site=waypointnda.com\"><span class=\"sitestr\">waypointnda.com</span></a>)</span></td></tr><tr><td colspan=\"2\"></td><td class=\"subtext\">\n",
      "        <span class=\"score\" id=\"score_23597142\">48 points</span> by <a href=\"user?id=bobbiechen\" class=\"hnuser\">bobbiechen</a> <span class=\"age\"><a href=\"item?id=23597142\">6 hours ago</a></span> <span id=\"unv_23597142\"></span> | <a href=\"hide?id=23597142&amp;goto=news\">hide</a> | <a href=\"item?id=23597142\">18&nbsp;comments</a>              </td></tr>\n",
      "      <tr class=\"spacer\" style=\"height:5px\"></tr>\n",
      "                <tr class='athing' id='23595430'>\n",
      "      <td align=\"right\" valign=\"top\" class=\"title\"><span class=\"rank\">11.</span></td>      <td valign=\"top\" class=\"votelinks\"><center><a id='up_23595430' href='vote?id=23595430&amp;how=up&amp;goto=news'><div class='votearrow' title='upvote'></div></a></center></td><td class=\"title\"><a href=\"https://github.com/ttalvitie/browservice\" class=\"storylink\">Show HN: Browservice – Browse the modern web on historical browsers</a><span class=\"sitebit comhead\"> (<a href=\"from?site=github.com\"><span class=\"sitestr\">github.com</span></a>)</span></td></tr><tr><td colspan=\"2\"></td><td class=\"subtext\">\n",
      "        <span class=\"score\" id=\"score_23595430\">164 points</span> by <a href=\"user?id=ttalvitie\" class=\"hnuser\">ttalvitie</a> <span class=\"age\"><a href=\"item?id=23595430\">13 hours ago</a></span> <span id=\"unv_23595430\"></span> | <a href=\"hide?id=23595430&amp;goto=news\">hide</a> | <a href=\"item?id=23595430\">23&nbsp;comments</a>              </td></tr>\n",
      "      <tr class=\"spacer\" style=\"height:5px\"></tr>\n",
      "                <tr class='athing' id='23587321'>\n",
      "      <td align=\"right\" valign=\"top\" class=\"title\"><span class=\"rank\">12.</span></td>      <td valign=\"top\" class=\"votelinks\"><center><a id='up_23587321' href='vote?id=23587321&amp;how=up&amp;goto=news'><div class='votearrow' title='upvote'></div></a></center></td><td class=\"title\"><a href=\"https://medium.com/walkme-engineering/memory-in-javascript-beyond-leaks-8c1d697c655c\" class=\"storylink\">Memory in JavaScript – Beyond Leaks (2019)</a><span class=\"sitebit comhead\"> (<a href=\"from?site=medium.com\"><span class=\"sitestr\">medium.com</span></a>)</span></td></tr><tr><td colspan=\"2\"></td><td class=\"subtext\">\n",
      "        <span class=\"score\" id=\"score_23587321\">31 points</span> by <a href=\"user?id=todsacerdoti\" class=\"hnuser\">todsacerdoti</a> <span class=\"age\"><a href=\"item?id=23587321\">6 hours ago</a></span> <span id=\"unv_23587321\"></span> | <a href=\"hide?id=23587321&amp;goto=news\">hide</a> | <a href=\"item?id=23587321\">4&nbsp;comments</a>              </td></tr>\n",
      "      <tr class=\"spacer\" style=\"height:5px\"></tr>\n",
      "                <tr class='athing' id='23595022'>\n",
      "      <td align=\"right\" valign=\"top\" class=\"title\"><span class=\"rank\">13.</span></td>      <td valign=\"top\" class=\"votelinks\"><center><a id='up_23595022' href='vote?id=23595022&amp;how=up&amp;goto=news'><div class='votearrow' title='upvote'></div></a></center></td><td class=\"title\"><a href=\"https://gvnshtn.com/maersk-me-notpetya/\" class=\"storylink\">Maersk, Me and NotPetya</a><span class=\"sitebit comhead\"> (<a href=\"from?site=gvnshtn.com\"><span class=\"sitestr\">gvnshtn.com</span></a>)</span></td></tr><tr><td colspan=\"2\"></td><td class=\"subtext\">\n",
      "        <span class=\"score\" id=\"score_23595022\">161 points</span> by <a href=\"user?id=omnibrain\" class=\"hnuser\">omnibrain</a> <span class=\"age\"><a href=\"item?id=23595022\">14 hours ago</a></span> <span id=\"unv_23595022\"></span> | <a href=\"hide?id=23595022&amp;goto=news\">hide</a> | <a href=\"item?id=23595022\">40&nbsp;comments</a>              </td></tr>\n",
      "      <tr class=\"spacer\" style=\"height:5px\"></tr>\n",
      "                <tr class='athing' id='23592161'>\n",
      "      <td align=\"right\" valign=\"top\" class=\"title\"><span class=\"rank\">14.</span></td>      <td valign=\"top\" class=\"votelinks\"><center><a id='up_23592161' href='vote?id=23592161&amp;how=up&amp;goto=news'><div class='votearrow' title='upvote'></div></a></center></td><td class=\"title\"><a href=\"https://www.ankit.fyi/being-alone\" class=\"storylink\">Being Alone</a><span class=\"sitebit comhead\"> (<a href=\"from?site=ankit.fyi\"><span class=\"sitestr\">ankit.fyi</span></a>)</span></td></tr><tr><td colspan=\"2\"></td><td class=\"subtext\">\n",
      "        <span class=\"score\" id=\"score_23592161\">199 points</span> by <a href=\"user?id=wallflower\" class=\"hnuser\">wallflower</a> <span class=\"age\"><a href=\"item?id=23592161\">12 hours ago</a></span> <span id=\"unv_23592161\"></span> | <a href=\"hide?id=23592161&amp;goto=news\">hide</a> | <a href=\"item?id=23592161\">66&nbsp;comments</a>              </td></tr>\n",
      "      <tr class=\"spacer\" style=\"height:5px\"></tr>\n",
      "                <tr class='athing' id='23591325'>\n",
      "      <td align=\"right\" valign=\"top\" class=\"title\"><span class=\"rank\">15.</span></td>      <td valign=\"top\" class=\"votelinks\"><center><a id='up_23591325' href='vote?id=23591325&amp;how=up&amp;goto=news'><div class='votearrow' title='upvote'></div></a></center></td><td class=\"title\"><a href=\"https://spectrum.ieee.org/geek-life/hands-on/quickly-embed-ai-into-your-projects-with-nvidias-jetson-nano\" class=\"storylink\">Embed AI into Projects with Nvidia’s Jetson Nano</a><span class=\"sitebit comhead\"> (<a href=\"from?site=ieee.org\"><span class=\"sitestr\">ieee.org</span></a>)</span></td></tr><tr><td colspan=\"2\"></td><td class=\"subtext\">\n",
      "        <span class=\"score\" id=\"score_23591325\">39 points</span> by <a href=\"user?id=samizdis\" class=\"hnuser\">samizdis</a> <span class=\"age\"><a href=\"item?id=23591325\">6 hours ago</a></span> <span id=\"unv_23591325\"></span> | <a href=\"hide?id=23591325&amp;goto=news\">hide</a> | <a href=\"item?id=23591325\">4&nbsp;comments</a>              </td></tr>\n",
      "      <tr class=\"spacer\" style=\"height:5px\"></tr>\n",
      "                <tr class='athing' id='23596516'>\n",
      "      <td align=\"right\" valign=\"top\" class=\"title\"><span class=\"rank\">16.</span></td>      <td valign=\"top\" class=\"votelinks\"><center><a id='up_23596516' href='vote?id=23596516&amp;how=up&amp;goto=news'><div class='votearrow' title='upvote'></div></a></center></td><td class=\"title\"><a href=\"https://www.bbc.com/news/science-environment-53119686\" class=\"storylink\">One-fifth of Earth's ocean floor is now mapped</a><span class=\"sitebit comhead\"> (<a href=\"from?site=bbc.com\"><span class=\"sitestr\">bbc.com</span></a>)</span></td></tr><tr><td colspan=\"2\"></td><td class=\"subtext\">\n",
      "        <span class=\"score\" id=\"score_23596516\">39 points</span> by <a href=\"user?id=pseudolus\" class=\"hnuser\">pseudolus</a> <span class=\"age\"><a href=\"item?id=23596516\">9 hours ago</a></span> <span id=\"unv_23596516\"></span> | <a href=\"hide?id=23596516&amp;goto=news\">hide</a> | <a href=\"item?id=23596516\">15&nbsp;comments</a>              </td></tr>\n",
      "      <tr class=\"spacer\" style=\"height:5px\"></tr>\n",
      "                <tr class='athing' id='23594707'>\n",
      "      <td align=\"right\" valign=\"top\" class=\"title\"><span class=\"rank\">17.</span></td>      <td valign=\"top\" class=\"votelinks\"><center><a id='up_23594707' href='vote?id=23594707&amp;how=up&amp;goto=news'><div class='votearrow' title='upvote'></div></a></center></td><td class=\"title\"><a href=\"https://marc.info/?l=openbsd-cvs&amp;m=159274150512676&amp;w=2\" class=\"storylink\">WireGuard Merged into OpenBSD</a><span class=\"sitebit comhead\"> (<a href=\"from?site=marc.info\"><span class=\"sitestr\">marc.info</span></a>)</span></td></tr><tr><td colspan=\"2\"></td><td class=\"subtext\">\n",
      "        <span class=\"score\" id=\"score_23594707\">374 points</span> by <a href=\"user?id=axiomdata316\" class=\"hnuser\">axiomdata316</a> <span class=\"age\"><a href=\"item?id=23594707\">14 hours ago</a></span> <span id=\"unv_23594707\"></span> | <a href=\"hide?id=23594707&amp;goto=news\">hide</a> | <a href=\"item?id=23594707\">82&nbsp;comments</a>              </td></tr>\n",
      "      <tr class=\"spacer\" style=\"height:5px\"></tr>\n",
      "                <tr class='athing' id='23596392'>\n",
      "      <td align=\"right\" valign=\"top\" class=\"title\"><span class=\"rank\">18.</span></td>      <td valign=\"top\" class=\"votelinks\"><center><a id='up_23596392' href='vote?id=23596392&amp;how=up&amp;goto=news'><div class='votearrow' title='upvote'></div></a></center></td><td class=\"title\"><a href=\"https://github.com/Seifert69/DikuMUD3\" class=\"storylink\">DikuMUD 3 Is Released</a><span class=\"sitebit comhead\"> (<a href=\"from?site=github.com\"><span class=\"sitestr\">github.com</span></a>)</span></td></tr><tr><td colspan=\"2\"></td><td class=\"subtext\">\n",
      "        <span class=\"score\" id=\"score_23596392\">77 points</span> by <a href=\"user?id=bovermyer\" class=\"hnuser\">bovermyer</a> <span class=\"age\"><a href=\"item?id=23596392\">10 hours ago</a></span> <span id=\"unv_23596392\"></span> | <a href=\"hide?id=23596392&amp;goto=news\">hide</a> | <a href=\"item?id=23596392\">31&nbsp;comments</a>              </td></tr>\n",
      "      <tr class=\"spacer\" style=\"height:5px\"></tr>\n",
      "                <tr class='athing' id='23597931'>\n",
      "      <td align=\"right\" valign=\"top\" class=\"title\"><span class=\"rank\">19.</span></td>      <td valign=\"top\" class=\"votelinks\"><center><a id='up_23597931' href='vote?id=23597931&amp;how=up&amp;goto=news'><div class='votearrow' title='upvote'></div></a></center></td><td class=\"title\"><a href=\"item?id=23597931\" class=\"storylink\">Ask HN: Best Video Call Solution for Elderly</a></td></tr><tr><td colspan=\"2\"></td><td class=\"subtext\">\n",
      "        <span class=\"score\" id=\"score_23597931\">23 points</span> by <a href=\"user?id=noodlesUK\" class=\"hnuser\">noodlesUK</a> <span class=\"age\"><a href=\"item?id=23597931\">3 hours ago</a></span> <span id=\"unv_23597931\"></span> | <a href=\"hide?id=23597931&amp;goto=news\">hide</a> | <a href=\"item?id=23597931\">25&nbsp;comments</a>              </td></tr>\n",
      "      <tr class=\"spacer\" style=\"height:5px\"></tr>\n",
      "                <tr class='athing' id='23597596'>\n",
      "      <td align=\"right\" valign=\"top\" class=\"title\"><span class=\"rank\">20.</span></td>      <td valign=\"top\" class=\"votelinks\"><center><a id='up_23597596' href='vote?id=23597596&amp;how=up&amp;goto=news'><div class='votearrow' title='upvote'></div></a></center></td><td class=\"title\"><a href=\"https://qz.com/1145669/googles-true-origin-partly-lies-in-cia-and-nsa-research-grants-for-mass-surveillance/\" class=\"storylink\">Google’s true origin partly lies in gov grants for mass surveillance (2017)</a><span class=\"sitebit comhead\"> (<a href=\"from?site=qz.com\"><span class=\"sitestr\">qz.com</span></a>)</span></td></tr><tr><td colspan=\"2\"></td><td class=\"subtext\">\n",
      "        <span class=\"score\" id=\"score_23597596\">65 points</span> by <a href=\"user?id=akshaybhalotia\" class=\"hnuser\">akshaybhalotia</a> <span class=\"age\"><a href=\"item?id=23597596\">4 hours ago</a></span> <span id=\"unv_23597596\"></span> | <a href=\"hide?id=23597596&amp;goto=news\">hide</a> | <a href=\"item?id=23597596\">12&nbsp;comments</a>              </td></tr>\n",
      "      <tr class=\"spacer\" style=\"height:5px\"></tr>\n",
      "                <tr class='athing' id='23596617'>\n",
      "      <td align=\"right\" valign=\"top\" class=\"title\"><span class=\"rank\">21.</span></td>      <td valign=\"top\" class=\"votelinks\"><center><a id='up_23596617' href='vote?id=23596617&amp;how=up&amp;goto=news'><div class='votearrow' title='upvote'></div></a></center></td><td class=\"title\"><a href=\"https://outsidertheory.com/preliminary-theory-of-the-in-group-contrarian/\" class=\"storylink\">Preliminary Theory of the In-Group Contrarian</a><span class=\"sitebit comhead\"> (<a href=\"from?site=outsidertheory.com\"><span class=\"sitestr\">outsidertheory.com</span></a>)</span></td></tr><tr><td colspan=\"2\"></td><td class=\"subtext\">\n",
      "        <span class=\"score\" id=\"score_23596617\">39 points</span> by <a href=\"user?id=fullshark\" class=\"hnuser\">fullshark</a> <span class=\"age\"><a href=\"item?id=23596617\">9 hours ago</a></span> <span id=\"unv_23596617\"></span> | <a href=\"hide?id=23596617&amp;goto=news\">hide</a> | <a href=\"item?id=23596617\">33&nbsp;comments</a>              </td></tr>\n",
      "      <tr class=\"spacer\" style=\"height:5px\"></tr>\n",
      "                <tr class='athing' id='23591580'>\n",
      "      <td align=\"right\" valign=\"top\" class=\"title\"><span class=\"rank\">22.</span></td>      <td valign=\"top\" class=\"votelinks\"><center><a id='up_23591580' href='vote?id=23591580&amp;how=up&amp;goto=news'><div class='votearrow' title='upvote'></div></a></center></td><td class=\"title\"><a href=\"https://algassert.com/post/1718\" class=\"storylink\">Shor's Quantum Factoring Algorithm (2017)</a><span class=\"sitebit comhead\"> (<a href=\"from?site=algassert.com\"><span class=\"sitestr\">algassert.com</span></a>)</span></td></tr><tr><td colspan=\"2\"></td><td class=\"subtext\">\n",
      "        <span class=\"score\" id=\"score_23591580\">45 points</span> by <a href=\"user?id=sjcsjc\" class=\"hnuser\">sjcsjc</a> <span class=\"age\"><a href=\"item?id=23591580\">12 hours ago</a></span> <span id=\"unv_23591580\"></span> | <a href=\"hide?id=23591580&amp;goto=news\">hide</a> | <a href=\"item?id=23591580\">7&nbsp;comments</a>              </td></tr>\n",
      "      <tr class=\"spacer\" style=\"height:5px\"></tr>\n",
      "                <tr class='athing' id='23573306'>\n",
      "      <td align=\"right\" valign=\"top\" class=\"title\"><span class=\"rank\">23.</span></td>      <td valign=\"top\" class=\"votelinks\"><center><a id='up_23573306' href='vote?id=23573306&amp;how=up&amp;goto=news'><div class='votearrow' title='upvote'></div></a></center></td><td class=\"title\"><a href=\"https://github.com/trekhleb/machine-learning-experiments/blob/master/assets/recipes_generation.en.md\" class=\"storylink\">Generating weird cooking recipes with TensorFlow</a><span class=\"sitebit comhead\"> (<a href=\"from?site=github.com\"><span class=\"sitestr\">github.com</span></a>)</span></td></tr><tr><td colspan=\"2\"></td><td class=\"subtext\">\n",
      "        <span class=\"score\" id=\"score_23573306\">41 points</span> by <a href=\"user?id=oleksiitwork\" class=\"hnuser\">oleksiitwork</a> <span class=\"age\"><a href=\"item?id=23573306\">10 hours ago</a></span> <span id=\"unv_23573306\"></span> | <a href=\"hide?id=23573306&amp;goto=news\">hide</a> | <a href=\"item?id=23573306\">26&nbsp;comments</a>              </td></tr>\n",
      "      <tr class=\"spacer\" style=\"height:5px\"></tr>\n",
      "                <tr class='athing' id='23595504'>\n",
      "      <td align=\"right\" valign=\"top\" class=\"title\"><span class=\"rank\">24.</span></td>      <td valign=\"top\" class=\"votelinks\"><center><a id='up_23595504' href='vote?id=23595504&amp;how=up&amp;goto=news'><div class='votearrow' title='upvote'></div></a></center></td><td class=\"title\"><a href=\"https://augmentedperception.github.io/deepviewvideo/\" class=\"storylink\">Immersive Light Field Video with a Layered Mesh Representation</a><span class=\"sitebit comhead\"> (<a href=\"from?site=augmentedperception.github.io\"><span class=\"sitestr\">augmentedperception.github.io</span></a>)</span></td></tr><tr><td colspan=\"2\"></td><td class=\"subtext\">\n",
      "        <span class=\"score\" id=\"score_23595504\">65 points</span> by <a href=\"user?id=PetitPrince\" class=\"hnuser\">PetitPrince</a> <span class=\"age\"><a href=\"item?id=23595504\">12 hours ago</a></span> <span id=\"unv_23595504\"></span> | <a href=\"hide?id=23595504&amp;goto=news\">hide</a> | <a href=\"item?id=23595504\">14&nbsp;comments</a>              </td></tr>\n",
      "      <tr class=\"spacer\" style=\"height:5px\"></tr>\n",
      "                <tr class='athing' id='23593439'>\n",
      "      <td align=\"right\" valign=\"top\" class=\"title\"><span class=\"rank\">25.</span></td>      <td valign=\"top\" class=\"votelinks\"><center><a id='up_23593439' href='vote?id=23593439&amp;how=up&amp;goto=news'><div class='votearrow' title='upvote'></div></a></center></td><td class=\"title\"><a href=\"https://chollinger.com/blog/2019/12/tensorflow-on-edge-or-building-a-smart-security-camera-with-a-raspberry-pi/\" class=\"storylink\">Tensorflow on edge, or – Building a “smart” security camera with a Raspberry Pi</a><span class=\"sitebit comhead\"> (<a href=\"from?site=chollinger.com\"><span class=\"sitestr\">chollinger.com</span></a>)</span></td></tr><tr><td colspan=\"2\"></td><td class=\"subtext\">\n",
      "        <span class=\"score\" id=\"score_23593439\">222 points</span> by <a href=\"user?id=ajsharp\" class=\"hnuser\">ajsharp</a> <span class=\"age\"><a href=\"item?id=23593439\">16 hours ago</a></span> <span id=\"unv_23593439\"></span> | <a href=\"hide?id=23593439&amp;goto=news\">hide</a> | <a href=\"item?id=23593439\">67&nbsp;comments</a>              </td></tr>\n",
      "      <tr class=\"spacer\" style=\"height:5px\"></tr>\n",
      "                <tr class='athing' id='23593872'>\n",
      "      <td align=\"right\" valign=\"top\" class=\"title\"><span class=\"rank\">26.</span></td>      <td valign=\"top\" class=\"votelinks\"><center><a id='up_23593872' href='vote?id=23593872&amp;how=up&amp;goto=news'><div class='votearrow' title='upvote'></div></a></center></td><td class=\"title\"><a href=\"https://nabeelqu.co/education\" class=\"storylink\">Video Games Are the Future of Education</a><span class=\"sitebit comhead\"> (<a href=\"from?site=nabeelqu.co\"><span class=\"sitestr\">nabeelqu.co</span></a>)</span></td></tr><tr><td colspan=\"2\"></td><td class=\"subtext\">\n",
      "        <span class=\"score\" id=\"score_23593872\">427 points</span> by <a href=\"user?id=nqureshi\" class=\"hnuser\">nqureshi</a> <span class=\"age\"><a href=\"item?id=23593872\">16 hours ago</a></span> <span id=\"unv_23593872\"></span> | <a href=\"hide?id=23593872&amp;goto=news\">hide</a> | <a href=\"item?id=23593872\">322&nbsp;comments</a>              </td></tr>\n",
      "      <tr class=\"spacer\" style=\"height:5px\"></tr>\n",
      "                <tr class='athing' id='23585673'>\n",
      "      <td align=\"right\" valign=\"top\" class=\"title\"><span class=\"rank\">27.</span></td>      <td valign=\"top\" class=\"votelinks\"><center><a id='up_23585673' href='vote?id=23585673&amp;how=up&amp;goto=news'><div class='votearrow' title='upvote'></div></a></center></td><td class=\"title\"><a href=\"https://www.bbc.co.uk/blogs/adamcurtis/entries/3662a707-0af9-3149-963f-47bea720b460\" class=\"storylink\">Bugger: Maybe the real state secret is spies aren't good at their jobs (2013)</a><span class=\"sitebit comhead\"> (<a href=\"from?site=bbc.co.uk\"><span class=\"sitestr\">bbc.co.uk</span></a>)</span></td></tr><tr><td colspan=\"2\"></td><td class=\"subtext\">\n",
      "        <span class=\"score\" id=\"score_23585673\">182 points</span> by <a href=\"user?id=tjalfi\" class=\"hnuser\">tjalfi</a> <span class=\"age\"><a href=\"item?id=23585673\">16 hours ago</a></span> <span id=\"unv_23585673\"></span> | <a href=\"hide?id=23585673&amp;goto=news\">hide</a> | <a href=\"item?id=23585673\">74&nbsp;comments</a>              </td></tr>\n",
      "      <tr class=\"spacer\" style=\"height:5px\"></tr>\n",
      "                <tr class='athing' id='23598588'>\n",
      "      <td align=\"right\" valign=\"top\" class=\"title\"><span class=\"rank\">28.</span></td>      <td valign=\"top\" class=\"votelinks\"><center><a id='up_23598588' href='vote?id=23598588&amp;how=up&amp;goto=news'><div class='votearrow' title='upvote'></div></a></center></td><td class=\"title\"><a href=\"https://www.youtube.com/watch?v=ve4q-1D_Ajo\" class=\"storylink\" rel=\"nofollow\">The Problem with America’s Lab Mice and Why It Should Matter to You</a><span class=\"sitebit comhead\"> (<a href=\"from?site=youtube.com\"><span class=\"sitestr\">youtube.com</span></a>)</span></td></tr><tr><td colspan=\"2\"></td><td class=\"subtext\">\n",
      "        <span class=\"score\" id=\"score_23598588\">4 points</span> by <a href=\"user?id=zpeti\" class=\"hnuser\">zpeti</a> <span class=\"age\"><a href=\"item?id=23598588\">40 minutes ago</a></span> <span id=\"unv_23598588\"></span> | <a href=\"hide?id=23598588&amp;goto=news\">hide</a> | <a href=\"item?id=23598588\">2&nbsp;comments</a>              </td></tr>\n",
      "      <tr class=\"spacer\" style=\"height:5px\"></tr>\n",
      "                <tr class='athing' id='23588896'>\n",
      "      <td align=\"right\" valign=\"top\" class=\"title\"><span class=\"rank\">29.</span></td>      <td valign=\"top\" class=\"votelinks\"><center><a id='up_23588896' href='vote?id=23588896&amp;how=up&amp;goto=news'><div class='votearrow' title='upvote'></div></a></center></td><td class=\"title\"><a href=\"https://teachyourselfcs.com\" class=\"storylink\">Teach Yourself Computer Science</a><span class=\"sitebit comhead\"> (<a href=\"from?site=teachyourselfcs.com\"><span class=\"sitestr\">teachyourselfcs.com</span></a>)</span></td></tr><tr><td colspan=\"2\"></td><td class=\"subtext\">\n",
      "        <span class=\"score\" id=\"score_23588896\">1061 points</span> by <a href=\"user?id=JDW1023\" class=\"hnuser\">JDW1023</a> <span class=\"age\"><a href=\"item?id=23588896\">1 day ago</a></span> <span id=\"unv_23588896\"></span> | <a href=\"hide?id=23588896&amp;goto=news\">hide</a> | <a href=\"item?id=23588896\">241&nbsp;comments</a>              </td></tr>\n",
      "      <tr class=\"spacer\" style=\"height:5px\"></tr>\n",
      "                <tr class='athing' id='23598138'>\n",
      "      <td align=\"right\" valign=\"top\" class=\"title\"><span class=\"rank\">30.</span></td>      <td valign=\"top\" class=\"votelinks\"><center><a id='up_23598138' href='vote?id=23598138&amp;how=up&amp;goto=news'><div class='votearrow' title='upvote'></div></a></center></td><td class=\"title\"><a href=\"https://www.youtube.com/watch?v=ualUPur6iks\" class=\"storylink\">Why it's so hard to get unemployment benefits [video]</a><span class=\"sitebit comhead\"> (<a href=\"from?site=youtube.com\"><span class=\"sitestr\">youtube.com</span></a>)</span></td></tr><tr><td colspan=\"2\"></td><td class=\"subtext\">\n",
      "        <span class=\"score\" id=\"score_23598138\">13 points</span> by <a href=\"user?id=ZeljkoS\" class=\"hnuser\">ZeljkoS</a> <span class=\"age\"><a href=\"item?id=23598138\">2 hours ago</a></span> <span id=\"unv_23598138\"></span> | <a href=\"hide?id=23598138&amp;goto=news\">hide</a> | <a href=\"item?id=23598138\">4&nbsp;comments</a>              </td></tr>\n",
      "      <tr class=\"spacer\" style=\"height:5px\"></tr>\n",
      "            <tr class=\"morespace\" style=\"height:10px\"></tr><tr><td colspan=\"2\"></td><td class=\"title\"><a href=\"news?p=2\" class=\"morelink\" rel=\"next\">More</a></td></tr>\n",
      "  </table>\n",
      "</td></tr>\n",
      "<tr><td><img src=\"s.gif\" height=\"10\" width=\"0\"><table width=\"100%\" cellspacing=\"0\" cellpadding=\"1\"><tr><td bgcolor=\"#ff6600\"></td></tr></table><br><center><span class=\"yclinks\"><a href=\"newsguidelines.html\">Guidelines</a>\n",
      "        | <a href=\"newsfaq.html\">FAQ</a>\n",
      "        | <a href=\"mailto:hn@ycombinator.com\">Support</a>\n",
      "        | <a href=\"https://github.com/HackerNews/API\">API</a>\n",
      "        | <a href=\"security.html\">Security</a>\n",
      "        | <a href=\"lists\">Lists</a>\n",
      "        | <a href=\"bookmarklet.html\" rel=\"nofollow\">Bookmarklet</a>\n",
      "        | <a href=\"http://www.ycombinator.com/legal/\">Legal</a>\n",
      "        | <a href=\"http://www.ycombinator.com/apply/\">Apply to YC</a>\n",
      "        | <a href=\"mailto:hn@ycombinator.com\">Contact</a></span><br><br><form method=\"get\" action=\"//hn.algolia.com/\">Search:\n",
      "          <input type=\"text\" name=\"q\" value=\"\" size=\"17\" autocorrect=\"off\" spellcheck=\"false\" autocapitalize=\"off\" autocomplete=\"false\"></form>\n",
      "            </center></td></tr>\n",
      "      </table></center></body><script type='text/javascript' src='hn.js?NM9XW8W8GKw1aLb7haw2'></script></html>\n",
      "\n"
     ]
    }
   ],
   "source": [
    "import requests\n",
    "\n",
    "# Fetch a web page\n",
    "r = requests.get(\"https://news.ycombinator.com\")\n",
    "print(r.text)"
   ]
  },
  {
   "cell_type": "code",
   "execution_count": 5,
   "metadata": {},
   "outputs": [
    {
     "name": "stdout",
     "output_type": "stream",
     "text": [
      "\n",
      "        \n",
      "          \n",
      "        Hacker News\n",
      "        \n",
      "                  Hacker News\n",
      "              new | past | comments | ask | show | jobs | submit            \n",
      "                              login\n",
      "                          \n",
      "              \n",
      "\n",
      "              \n",
      "      1.      ARM Mac Impact on Intel (mondaynote.com)\n",
      "        112 points by robin_reala 5 hours ago  | hide | 213&nbsp;comments              \n",
      "      \n",
      "                \n",
      "      2.      Nginx UI – Access and modify the Nginx configurations files without CLI (github.com)\n",
      "        133 points by gilad 6 hours ago  | hide | 31&nbsp;comments              \n",
      "      \n",
      "                \n",
      "      3.      An LSD Trip “Off-Switch” May Be Coming Soon (freethink.com)\n",
      "        24 points by jaoo 1 hour ago  | hide | 16&nbsp;comments              \n",
      "      \n",
      "                \n",
      "      4.      New QGIS 3.14 π got support for vector tiles (maptiler.com)\n",
      "        31 points by vami 1 hour ago  | hide | 3&nbsp;comments              \n",
      "      \n",
      "                \n",
      "      5.      Reverse Engineering Snapchat (Part II): Debofuscating the Undeobfuscatable (hot3eed.github.io)\n",
      "        208 points by 3eed 11 hours ago  | hide | 41&nbsp;comments              \n",
      "      \n",
      "                \n",
      "      6.      Sat solver on top of regex matcher (yurichev.com)\n",
      "        38 points by justinucd 4 hours ago  | hide | 12&nbsp;comments              \n",
      "      \n",
      "                \n",
      "      7.      The largest cave owner in the U.S. (outsideonline.com)\n",
      "        70 points by aaron695 6 hours ago  | hide | 17&nbsp;comments              \n",
      "      \n",
      "                \n",
      "      8.      Ethics in Geo (macwright.org)\n",
      "        81 points by chmaynard 6 hours ago  | hide | 20&nbsp;comments              \n",
      "      \n",
      "                \n",
      "      9.      My dad launched the quest to find alien intelligence (nationalgeographic.com)\n",
      "        80 points by 8bitsrule 9 hours ago  | hide | 116&nbsp;comments              \n",
      "      \n",
      "                \n",
      "      10.      The Waypoint NDA (waypointnda.com)\n",
      "        48 points by bobbiechen 6 hours ago  | hide | 18&nbsp;comments              \n",
      "      \n",
      "                \n",
      "      11.      Show HN: Browservice – Browse the modern web on historical browsers (github.com)\n",
      "        164 points by ttalvitie 13 hours ago  | hide | 23&nbsp;comments              \n",
      "      \n",
      "                \n",
      "      12.      Memory in JavaScript – Beyond Leaks (2019) (medium.com)\n",
      "        31 points by todsacerdoti 6 hours ago  | hide | 4&nbsp;comments              \n",
      "      \n",
      "                \n",
      "      13.      Maersk, Me and NotPetya (gvnshtn.com)\n",
      "        161 points by omnibrain 14 hours ago  | hide | 40&nbsp;comments              \n",
      "      \n",
      "                \n",
      "      14.      Being Alone (ankit.fyi)\n",
      "        199 points by wallflower 12 hours ago  | hide | 66&nbsp;comments              \n",
      "      \n",
      "                \n",
      "      15.      Embed AI into Projects with Nvidia’s Jetson Nano (ieee.org)\n",
      "        39 points by samizdis 6 hours ago  | hide | 4&nbsp;comments              \n",
      "      \n",
      "                \n",
      "      16.      One-fifth of Earth's ocean floor is now mapped (bbc.com)\n",
      "        39 points by pseudolus 9 hours ago  | hide | 15&nbsp;comments              \n",
      "      \n",
      "                \n",
      "      17.      WireGuard Merged into OpenBSD (marc.info)\n",
      "        374 points by axiomdata316 14 hours ago  | hide | 82&nbsp;comments              \n",
      "      \n",
      "                \n",
      "      18.      DikuMUD 3 Is Released (github.com)\n",
      "        77 points by bovermyer 10 hours ago  | hide | 31&nbsp;comments              \n",
      "      \n",
      "                \n",
      "      19.      Ask HN: Best Video Call Solution for Elderly\n",
      "        23 points by noodlesUK 3 hours ago  | hide | 25&nbsp;comments              \n",
      "      \n",
      "                \n",
      "      20.      Google’s true origin partly lies in gov grants for mass surveillance (2017) (qz.com)\n",
      "        65 points by akshaybhalotia 4 hours ago  | hide | 12&nbsp;comments              \n",
      "      \n",
      "                \n",
      "      21.      Preliminary Theory of the In-Group Contrarian (outsidertheory.com)\n",
      "        39 points by fullshark 9 hours ago  | hide | 33&nbsp;comments              \n",
      "      \n",
      "                \n",
      "      22.      Shor's Quantum Factoring Algorithm (2017) (algassert.com)\n",
      "        45 points by sjcsjc 12 hours ago  | hide | 7&nbsp;comments              \n",
      "      \n",
      "                \n",
      "      23.      Generating weird cooking recipes with TensorFlow (github.com)\n",
      "        41 points by oleksiitwork 10 hours ago  | hide | 26&nbsp;comments              \n",
      "      \n",
      "                \n",
      "      24.      Immersive Light Field Video with a Layered Mesh Representation (augmentedperception.github.io)\n",
      "        65 points by PetitPrince 12 hours ago  | hide | 14&nbsp;comments              \n",
      "      \n",
      "                \n",
      "      25.      Tensorflow on edge, or – Building a “smart” security camera with a Raspberry Pi (chollinger.com)\n",
      "        222 points by ajsharp 16 hours ago  | hide | 67&nbsp;comments              \n",
      "      \n",
      "                \n",
      "      26.      Video Games Are the Future of Education (nabeelqu.co)\n",
      "        427 points by nqureshi 16 hours ago  | hide | 322&nbsp;comments              \n",
      "      \n",
      "                \n",
      "      27.      Bugger: Maybe the real state secret is spies aren't good at their jobs (2013) (bbc.co.uk)\n",
      "        182 points by tjalfi 16 hours ago  | hide | 74&nbsp;comments              \n",
      "      \n",
      "                \n",
      "      28.      The Problem with America’s Lab Mice and Why It Should Matter to You (youtube.com)\n",
      "        4 points by zpeti 40 minutes ago  | hide | 2&nbsp;comments              \n",
      "      \n",
      "                \n",
      "      29.      Teach Yourself Computer Science (teachyourselfcs.com)\n",
      "        1061 points by JDW1023 1 day ago  | hide | 241&nbsp;comments              \n",
      "      \n",
      "                \n",
      "      30.      Why it's so hard to get unemployment benefits [video] (youtube.com)\n",
      "        13 points by ZeljkoS 2 hours ago  | hide | 4&nbsp;comments              \n",
      "      \n",
      "            More\n",
      "  \n",
      "\n",
      "Guidelines\n",
      "        | FAQ\n",
      "        | Support\n",
      "        | API\n",
      "        | Security\n",
      "        | Lists\n",
      "        | Bookmarklet\n",
      "        | Legal\n",
      "        | Apply to YC\n",
      "        | ContactSearch:\n",
      "          \n",
      "            \n",
      "      \n",
      "\n"
     ]
    }
   ],
   "source": [
    "import re\n",
    "\n",
    "# Remove HTML tags using RegEx\n",
    "pattern = re.compile(r'<.*?>')  # tags look like <...>\n",
    "print(pattern.sub('', r.text))  # replace them with blank"
   ]
  },
  {
   "cell_type": "code",
   "execution_count": 6,
   "metadata": {},
   "outputs": [
    {
     "name": "stdout",
     "output_type": "stream",
     "text": [
      "\n",
      "        \n",
      "          \n",
      "        Hacker News\n",
      "        \n",
      "                  Hacker News\n",
      "              new | past | comments | ask | show | jobs | submit            \n",
      "                              login\n",
      "                          \n",
      "              \n",
      "\n",
      "              \n",
      "      1.      ARM Mac Impact on Intel (mondaynote.com)\n",
      "        112 points by robin_reala 5 hours ago  | hide | 213 comments              \n",
      "      \n",
      "                \n",
      "      2.      Nginx UI – Access and modify the Nginx configurations files without CLI (github.com)\n",
      "        133 points by gilad 6 hours ago  | hide | 31 comments              \n",
      "      \n",
      "                \n",
      "      3.      An LSD Trip “Off-Switch” May Be Coming Soon (freethink.com)\n",
      "        24 points by jaoo 1 hour ago  | hide | 16 comments              \n",
      "      \n",
      "                \n",
      "      4.      New QGIS 3.14 π got support for vector tiles (maptiler.com)\n",
      "        31 points by vami 1 hour ago  | hide | 3 comments              \n",
      "      \n",
      "                \n",
      "      5.      Reverse Engineering Snapchat (Part II): Debofuscating the Undeobfuscatable (hot3eed.github.io)\n",
      "        208 points by 3eed 11 hours ago  | hide | 41 comments              \n",
      "      \n",
      "                \n",
      "      6.      Sat solver on top of regex matcher (yurichev.com)\n",
      "        38 points by justinucd 4 hours ago  | hide | 12 comments              \n",
      "      \n",
      "                \n",
      "      7.      The largest cave owner in the U.S. (outsideonline.com)\n",
      "        70 points by aaron695 6 hours ago  | hide | 17 comments              \n",
      "      \n",
      "                \n",
      "      8.      Ethics in Geo (macwright.org)\n",
      "        81 points by chmaynard 6 hours ago  | hide | 20 comments              \n",
      "      \n",
      "                \n",
      "      9.      My dad launched the quest to find alien intelligence (nationalgeographic.com)\n",
      "        80 points by 8bitsrule 9 hours ago  | hide | 116 comments              \n",
      "      \n",
      "                \n",
      "      10.      The Waypoint NDA (waypointnda.com)\n",
      "        48 points by bobbiechen 6 hours ago  | hide | 18 comments              \n",
      "      \n",
      "                \n",
      "      11.      Show HN: Browservice – Browse the modern web on historical browsers (github.com)\n",
      "        164 points by ttalvitie 13 hours ago  | hide | 23 comments              \n",
      "      \n",
      "                \n",
      "      12.      Memory in JavaScript – Beyond Leaks (2019) (medium.com)\n",
      "        31 points by todsacerdoti 6 hours ago  | hide | 4 comments              \n",
      "      \n",
      "                \n",
      "      13.      Maersk, Me and NotPetya (gvnshtn.com)\n",
      "        161 points by omnibrain 14 hours ago  | hide | 40 comments              \n",
      "      \n",
      "                \n",
      "      14.      Being Alone (ankit.fyi)\n",
      "        199 points by wallflower 12 hours ago  | hide | 66 comments              \n",
      "      \n",
      "                \n",
      "      15.      Embed AI into Projects with Nvidia’s Jetson Nano (ieee.org)\n",
      "        39 points by samizdis 6 hours ago  | hide | 4 comments              \n",
      "      \n",
      "                \n",
      "      16.      One-fifth of Earth's ocean floor is now mapped (bbc.com)\n",
      "        39 points by pseudolus 9 hours ago  | hide | 15 comments              \n",
      "      \n",
      "                \n",
      "      17.      WireGuard Merged into OpenBSD (marc.info)\n",
      "        374 points by axiomdata316 14 hours ago  | hide | 82 comments              \n",
      "      \n",
      "                \n",
      "      18.      DikuMUD 3 Is Released (github.com)\n",
      "        77 points by bovermyer 10 hours ago  | hide | 31 comments              \n",
      "      \n",
      "                \n",
      "      19.      Ask HN: Best Video Call Solution for Elderly\n",
      "        23 points by noodlesUK 3 hours ago  | hide | 25 comments              \n",
      "      \n",
      "                \n",
      "      20.      Google’s true origin partly lies in gov grants for mass surveillance (2017) (qz.com)\n",
      "        65 points by akshaybhalotia 4 hours ago  | hide | 12 comments              \n",
      "      \n",
      "                \n",
      "      21.      Preliminary Theory of the In-Group Contrarian (outsidertheory.com)\n",
      "        39 points by fullshark 9 hours ago  | hide | 33 comments              \n",
      "      \n",
      "                \n",
      "      22.      Shor's Quantum Factoring Algorithm (2017) (algassert.com)\n",
      "        45 points by sjcsjc 12 hours ago  | hide | 7 comments              \n",
      "      \n",
      "                \n",
      "      23.      Generating weird cooking recipes with TensorFlow (github.com)\n",
      "        41 points by oleksiitwork 10 hours ago  | hide | 26 comments              \n",
      "      \n",
      "                \n",
      "      24.      Immersive Light Field Video with a Layered Mesh Representation (augmentedperception.github.io)\n",
      "        65 points by PetitPrince 12 hours ago  | hide | 14 comments              \n",
      "      \n",
      "                \n",
      "      25.      Tensorflow on edge, or – Building a “smart” security camera with a Raspberry Pi (chollinger.com)\n",
      "        222 points by ajsharp 16 hours ago  | hide | 67 comments              \n",
      "      \n",
      "                \n",
      "      26.      Video Games Are the Future of Education (nabeelqu.co)\n",
      "        427 points by nqureshi 16 hours ago  | hide | 322 comments              \n",
      "      \n",
      "                \n",
      "      27.      Bugger: Maybe the real state secret is spies aren't good at their jobs (2013) (bbc.co.uk)\n",
      "        182 points by tjalfi 16 hours ago  | hide | 74 comments              \n",
      "      \n",
      "                \n",
      "      28.      The Problem with America’s Lab Mice and Why It Should Matter to You (youtube.com)\n",
      "        4 points by zpeti 40 minutes ago  | hide | 2 comments              \n",
      "      \n",
      "                \n",
      "      29.      Teach Yourself Computer Science (teachyourselfcs.com)\n",
      "        1061 points by JDW1023 1 day ago  | hide | 241 comments              \n",
      "      \n",
      "                \n",
      "      30.      Why it's so hard to get unemployment benefits [video] (youtube.com)\n",
      "        13 points by ZeljkoS 2 hours ago  | hide | 4 comments              \n",
      "      \n",
      "            More\n",
      "  \n",
      "\n",
      "Guidelines\n",
      "        | FAQ\n",
      "        | Support\n",
      "        | API\n",
      "        | Security\n",
      "        | Lists\n",
      "        | Bookmarklet\n",
      "        | Legal\n",
      "        | Apply to YC\n",
      "        | ContactSearch:\n",
      "          \n",
      "            \n",
      "      \n",
      "\n"
     ]
    }
   ],
   "source": [
    "from bs4 import BeautifulSoup\n",
    "\n",
    "# Remove HTML tags using Beautiful Soup library\n",
    "soup = BeautifulSoup(r.text, \"html5lib\")\n",
    "print(soup.get_text())"
   ]
  },
  {
   "cell_type": "code",
   "execution_count": 7,
   "metadata": {
    "scrolled": true
   },
   "outputs": [
    {
     "data": {
      "text/plain": [
       "<tr class=\"athing\" id=\"23597403\">\n",
       "      <td align=\"right\" class=\"title\" valign=\"top\"><span class=\"rank\">1.</span></td>      <td class=\"votelinks\" valign=\"top\"><center><a href=\"vote?id=23597403&amp;how=up&amp;goto=news\" id=\"up_23597403\"><div class=\"votearrow\" title=\"upvote\"></div></a></center></td><td class=\"title\"><a class=\"storylink\" href=\"https://mondaynote.com/arm-mac-impact-on-intel-9641a8e73dca\">ARM Mac Impact on Intel</a><span class=\"sitebit comhead\"> (<a href=\"from?site=mondaynote.com\"><span class=\"sitestr\">mondaynote.com</span></a>)</span></td></tr>"
      ]
     },
     "execution_count": 7,
     "metadata": {},
     "output_type": "execute_result"
    }
   ],
   "source": [
    "# Find all articles\n",
    "summaries = soup.find_all(\"tr\", class_=\"athing\")\n",
    "summaries[0]"
   ]
  },
  {
   "cell_type": "code",
   "execution_count": 8,
   "metadata": {},
   "outputs": [
    {
     "data": {
      "text/plain": [
       "'ARM Mac Impact on Intel'"
      ]
     },
     "execution_count": 8,
     "metadata": {},
     "output_type": "execute_result"
    }
   ],
   "source": [
    "# Extract title\n",
    "summaries[0].find(\"a\", class_=\"storylink\").get_text().strip()"
   ]
  },
  {
   "cell_type": "code",
   "execution_count": 9,
   "metadata": {},
   "outputs": [
    {
     "name": "stdout",
     "output_type": "stream",
     "text": [
      "30 Article summaries found. Sample:\n",
      "ARM Mac Impact on Intel\n"
     ]
    }
   ],
   "source": [
    "# Find all articles, extract titles\n",
    "articles = []\n",
    "summaries = soup.find_all(\"tr\", class_=\"athing\")\n",
    "for summary in summaries:\n",
    "    title = summary.find(\"a\", class_=\"storylink\").get_text().strip()\n",
    "    articles.append((title))\n",
    "\n",
    "print(len(articles), \"Article summaries found. Sample:\")\n",
    "print(articles[0])"
   ]
  },
  {
   "cell_type": "markdown",
   "metadata": {
    "collapsed": true
   },
   "source": [
    "## Normalization"
   ]
  },
  {
   "cell_type": "markdown",
   "metadata": {},
   "source": [
    "### Case Normalization"
   ]
  },
  {
   "cell_type": "code",
   "execution_count": 10,
   "metadata": {},
   "outputs": [
    {
     "name": "stdout",
     "output_type": "stream",
     "text": [
      "The first time you see The Second Renaissance it may look boring. Look at it at least twice and definitely watch part 2. It will change your view of the matrix. Are the human people the ones who started the war ? Is AI a bad thing ?\n"
     ]
    }
   ],
   "source": [
    "# Sample text\n",
    "text = \"The first time you see The Second Renaissance it may look boring. Look at it at least twice and definitely watch part 2. It will change your view of the matrix. Are the human people the ones who started the war ? Is AI a bad thing ?\"\n",
    "print(text)"
   ]
  },
  {
   "cell_type": "code",
   "execution_count": 11,
   "metadata": {},
   "outputs": [
    {
     "name": "stdout",
     "output_type": "stream",
     "text": [
      "the first time you see the second renaissance it may look boring. look at it at least twice and definitely watch part 2. it will change your view of the matrix. are the human people the ones who started the war ? is ai a bad thing ?\n"
     ]
    }
   ],
   "source": [
    "# Convert to lowercase\n",
    "text = text.lower() \n",
    "print(text)"
   ]
  },
  {
   "cell_type": "markdown",
   "metadata": {},
   "source": [
    "### Punctuation Removal"
   ]
  },
  {
   "cell_type": "code",
   "execution_count": 12,
   "metadata": {},
   "outputs": [
    {
     "name": "stdout",
     "output_type": "stream",
     "text": [
      "the first time you see the second renaissance it may look boring  look at it at least twice and definitely watch part 2  it will change your view of the matrix  are the human people the ones who started the war   is ai a bad thing  \n"
     ]
    }
   ],
   "source": [
    "import re\n",
    "\n",
    "# Remove punctuation characters\n",
    "text = re.sub(r\"[^a-zA-Z0-9]\", \" \", text) \n",
    "print(text)"
   ]
  },
  {
   "cell_type": "markdown",
   "metadata": {},
   "source": [
    "## Tokenization"
   ]
  },
  {
   "cell_type": "code",
   "execution_count": 13,
   "metadata": {},
   "outputs": [
    {
     "name": "stdout",
     "output_type": "stream",
     "text": [
      "['the', 'first', 'time', 'you', 'see', 'the', 'second', 'renaissance', 'it', 'may', 'look', 'boring', 'look', 'at', 'it', 'at', 'least', 'twice', 'and', 'definitely', 'watch', 'part', '2', 'it', 'will', 'change', 'your', 'view', 'of', 'the', 'matrix', 'are', 'the', 'human', 'people', 'the', 'ones', 'who', 'started', 'the', 'war', 'is', 'ai', 'a', 'bad', 'thing']\n"
     ]
    }
   ],
   "source": [
    "# Split text into tokens (words)\n",
    "words = text.split()\n",
    "print(words)"
   ]
  },
  {
   "cell_type": "markdown",
   "metadata": {},
   "source": [
    "### NLTK: Natural Language ToolKit"
   ]
  },
  {
   "cell_type": "code",
   "execution_count": 14,
   "metadata": {},
   "outputs": [],
   "source": [
    "import os\n",
    "import nltk\n",
    "nltk.data.path.append(os.path.join(os.getcwd(), \"nltk_data\"))"
   ]
  },
  {
   "cell_type": "code",
   "execution_count": 15,
   "metadata": {},
   "outputs": [
    {
     "name": "stdout",
     "output_type": "stream",
     "text": [
      "Dr. Smith graduated from the University of Washington. He later started an analytics firm called Lux, which catered to enterprise customers.\n"
     ]
    }
   ],
   "source": [
    "# Another sample text\n",
    "text = \"Dr. Smith graduated from the University of Washington. He later started an analytics firm called Lux, which catered to enterprise customers.\"\n",
    "print(text)"
   ]
  },
  {
   "cell_type": "code",
   "execution_count": 16,
   "metadata": {},
   "outputs": [
    {
     "name": "stdout",
     "output_type": "stream",
     "text": [
      "['Dr.', 'Smith', 'graduated', 'from', 'the', 'University', 'of', 'Washington', '.', 'He', 'later', 'started', 'an', 'analytics', 'firm', 'called', 'Lux', ',', 'which', 'catered', 'to', 'enterprise', 'customers', '.']\n"
     ]
    }
   ],
   "source": [
    "from nltk.tokenize import word_tokenize\n",
    "\n",
    "# Split text into words using NLTK\n",
    "words = word_tokenize(text)\n",
    "print(words)"
   ]
  },
  {
   "cell_type": "code",
   "execution_count": 17,
   "metadata": {},
   "outputs": [
    {
     "name": "stdout",
     "output_type": "stream",
     "text": [
      "['Dr. Smith graduated from the University of Washington.', 'He later started an analytics firm called Lux, which catered to enterprise customers.']\n"
     ]
    }
   ],
   "source": [
    "from nltk.tokenize import sent_tokenize\n",
    "\n",
    "# Split text into sentences\n",
    "sentences = sent_tokenize(text)\n",
    "print(sentences)"
   ]
  },
  {
   "cell_type": "code",
   "execution_count": 18,
   "metadata": {},
   "outputs": [
    {
     "name": "stdout",
     "output_type": "stream",
     "text": [
      "['i', 'me', 'my', 'myself', 'we', 'our', 'ours', 'ourselves', 'you', \"you're\", \"you've\", \"you'll\", \"you'd\", 'your', 'yours', 'yourself', 'yourselves', 'he', 'him', 'his', 'himself', 'she', \"she's\", 'her', 'hers', 'herself', 'it', \"it's\", 'its', 'itself', 'they', 'them', 'their', 'theirs', 'themselves', 'what', 'which', 'who', 'whom', 'this', 'that', \"that'll\", 'these', 'those', 'am', 'is', 'are', 'was', 'were', 'be', 'been', 'being', 'have', 'has', 'had', 'having', 'do', 'does', 'did', 'doing', 'a', 'an', 'the', 'and', 'but', 'if', 'or', 'because', 'as', 'until', 'while', 'of', 'at', 'by', 'for', 'with', 'about', 'against', 'between', 'into', 'through', 'during', 'before', 'after', 'above', 'below', 'to', 'from', 'up', 'down', 'in', 'out', 'on', 'off', 'over', 'under', 'again', 'further', 'then', 'once', 'here', 'there', 'when', 'where', 'why', 'how', 'all', 'any', 'both', 'each', 'few', 'more', 'most', 'other', 'some', 'such', 'no', 'nor', 'not', 'only', 'own', 'same', 'so', 'than', 'too', 'very', 's', 't', 'can', 'will', 'just', 'don', \"don't\", 'should', \"should've\", 'now', 'd', 'll', 'm', 'o', 're', 've', 'y', 'ain', 'aren', \"aren't\", 'couldn', \"couldn't\", 'didn', \"didn't\", 'doesn', \"doesn't\", 'hadn', \"hadn't\", 'hasn', \"hasn't\", 'haven', \"haven't\", 'isn', \"isn't\", 'ma', 'mightn', \"mightn't\", 'mustn', \"mustn't\", 'needn', \"needn't\", 'shan', \"shan't\", 'shouldn', \"shouldn't\", 'wasn', \"wasn't\", 'weren', \"weren't\", 'won', \"won't\", 'wouldn', \"wouldn't\"]\n"
     ]
    }
   ],
   "source": [
    "# List stop words\n",
    "from nltk.corpus import stopwords\n",
    "print(stopwords.words(\"english\"))"
   ]
  },
  {
   "cell_type": "code",
   "execution_count": 19,
   "metadata": {},
   "outputs": [
    {
     "name": "stdout",
     "output_type": "stream",
     "text": [
      "['the', 'first', 'time', 'you', 'see', 'the', 'second', 'renaissance', 'it', 'may', 'look', 'boring', 'look', 'at', 'it', 'at', 'least', 'twice', 'and', 'definitely', 'watch', 'part', '2', 'it', 'will', 'change', 'your', 'view', 'of', 'the', 'matrix', 'are', 'the', 'human', 'people', 'the', 'ones', 'who', 'started', 'the', 'war', 'is', 'ai', 'a', 'bad', 'thing']\n"
     ]
    }
   ],
   "source": [
    "# Reset text\n",
    "text = \"The first time you see The Second Renaissance it may look boring. Look at it at least twice and definitely watch part 2. It will change your view of the matrix. Are the human people the ones who started the war ? Is AI a bad thing ?\"\n",
    "\n",
    "# Normalize it\n",
    "text = re.sub(r\"[^a-zA-Z0-9]\", \" \", text.lower())\n",
    "\n",
    "# Tokenize it\n",
    "words = text.split()\n",
    "print(words)"
   ]
  },
  {
   "cell_type": "code",
   "execution_count": 20,
   "metadata": {},
   "outputs": [
    {
     "name": "stdout",
     "output_type": "stream",
     "text": [
      "['first', 'time', 'see', 'second', 'renaissance', 'may', 'look', 'boring', 'look', 'least', 'twice', 'definitely', 'watch', 'part', '2', 'change', 'view', 'matrix', 'human', 'people', 'ones', 'started', 'war', 'ai', 'bad', 'thing']\n"
     ]
    }
   ],
   "source": [
    "# Remove stop words\n",
    "words = [w for w in words if w not in stopwords.words(\"english\")]\n",
    "print(words)"
   ]
  },
  {
   "cell_type": "markdown",
   "metadata": {},
   "source": [
    "### Sentence Parsing"
   ]
  },
  {
   "cell_type": "code",
   "execution_count": 21,
   "metadata": {},
   "outputs": [
    {
     "name": "stdout",
     "output_type": "stream",
     "text": [
      "(S\n",
      "  (NP I)\n",
      "  (VP\n",
      "    (VP (V shot) (NP (Det an) (N elephant)))\n",
      "    (PP (P in) (NP (Det my) (N pajamas)))))\n",
      "(S\n",
      "  (NP I)\n",
      "  (VP\n",
      "    (V shot)\n",
      "    (NP (Det an) (N elephant) (PP (P in) (NP (Det my) (N pajamas))))))\n"
     ]
    }
   ],
   "source": [
    "import nltk\n",
    "\n",
    "# Define a custom grammar\n",
    "my_grammar = nltk.CFG.fromstring(\"\"\"\n",
    "S -> NP VP\n",
    "PP -> P NP\n",
    "NP -> Det N | Det N PP | 'I'\n",
    "VP -> V NP | VP PP\n",
    "Det -> 'an' | 'my'\n",
    "N -> 'elephant' | 'pajamas'\n",
    "V -> 'shot'\n",
    "P -> 'in'\n",
    "\"\"\")\n",
    "parser = nltk.ChartParser(my_grammar)\n",
    "\n",
    "# Parse a sentence\n",
    "sentence = word_tokenize(\"I shot an elephant in my pajamas\")\n",
    "for tree in parser.parse(sentence):\n",
    "    print(tree)"
   ]
  },
  {
   "cell_type": "markdown",
   "metadata": {},
   "source": [
    "## Stemming & Lemmatization\n",
    "\n",
    "### Stemming"
   ]
  },
  {
   "cell_type": "code",
   "execution_count": null,
   "metadata": {},
   "outputs": [],
   "source": [
    "from nltk.stem.porter import PorterStemmer\n",
    "\n",
    "# Reduce words to their stems\n",
    "stemmed = [PorterStemmer().stem(w) for w in words]\n",
    "print(stemmed)"
   ]
  },
  {
   "cell_type": "markdown",
   "metadata": {},
   "source": [
    "### Lemmatization"
   ]
  },
  {
   "cell_type": "code",
   "execution_count": null,
   "metadata": {},
   "outputs": [],
   "source": [
    "from nltk.stem.wordnet import WordNetLemmatizer\n",
    "\n",
    "# Reduce words to their root form\n",
    "lemmed = [WordNetLemmatizer().lemmatize(w) for w in words]\n",
    "print(lemmed)"
   ]
  },
  {
   "cell_type": "code",
   "execution_count": null,
   "metadata": {},
   "outputs": [],
   "source": [
    "# Lemmatize verbs by specifying pos\n",
    "lemmed = [WordNetLemmatizer().lemmatize(w, pos='v') for w in lemmed]\n",
    "print(lemmed)"
   ]
  },
  {
   "cell_type": "code",
   "execution_count": null,
   "metadata": {},
   "outputs": [],
   "source": []
  }
 ],
 "metadata": {
  "kernelspec": {
   "display_name": "Python 3",
   "language": "python",
   "name": "python3"
  },
  "language_info": {
   "codemirror_mode": {
    "name": "ipython",
    "version": 3
   },
   "file_extension": ".py",
   "mimetype": "text/x-python",
   "name": "python",
   "nbconvert_exporter": "python",
   "pygments_lexer": "ipython3",
   "version": "3.6.3"
  }
 },
 "nbformat": 4,
 "nbformat_minor": 2
}
